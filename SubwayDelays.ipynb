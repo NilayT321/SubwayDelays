{
 "cells": [
  {
   "cell_type": "code",
   "execution_count": 1,
   "metadata": {},
   "outputs": [],
   "source": [
    "import pandas as pd \n",
    "import numpy as np \n",
    "import matplotlib.pyplot as plt"
   ]
  },
  {
   "cell_type": "markdown",
   "metadata": {},
   "source": [
    "We take a peek at the data below."
   ]
  },
  {
   "cell_type": "code",
   "execution_count": 26,
   "metadata": {},
   "outputs": [],
   "source": [
    "data = pd.read_csv(\"SubwayDelayedDataset.csv\")\n",
    "data = data.dropna()"
   ]
  },
  {
   "cell_type": "code",
   "execution_count": 27,
   "metadata": {},
   "outputs": [
    {
     "data": {
      "text/html": [
       "<div>\n",
       "<style scoped>\n",
       "    .dataframe tbody tr th:only-of-type {\n",
       "        vertical-align: middle;\n",
       "    }\n",
       "\n",
       "    .dataframe tbody tr th {\n",
       "        vertical-align: top;\n",
       "    }\n",
       "\n",
       "    .dataframe thead th {\n",
       "        text-align: right;\n",
       "    }\n",
       "</style>\n",
       "<table border=\"1\" class=\"dataframe\">\n",
       "  <thead>\n",
       "    <tr style=\"text-align: right;\">\n",
       "      <th></th>\n",
       "      <th>month</th>\n",
       "      <th>division</th>\n",
       "      <th>line</th>\n",
       "      <th>day_type</th>\n",
       "      <th>reporting_category</th>\n",
       "      <th>subcategory</th>\n",
       "      <th>delays</th>\n",
       "    </tr>\n",
       "  </thead>\n",
       "  <tbody>\n",
       "    <tr>\n",
       "      <th>0</th>\n",
       "      <td>2024-11-01</td>\n",
       "      <td>A DIVISION</td>\n",
       "      <td>1</td>\n",
       "      <td>1</td>\n",
       "      <td>Crew Availability</td>\n",
       "      <td>Crew Availability</td>\n",
       "      <td>50</td>\n",
       "    </tr>\n",
       "    <tr>\n",
       "      <th>1</th>\n",
       "      <td>2024-11-01</td>\n",
       "      <td>A DIVISION</td>\n",
       "      <td>1</td>\n",
       "      <td>1</td>\n",
       "      <td>External Factors</td>\n",
       "      <td>External Debris on Roadbed</td>\n",
       "      <td>34</td>\n",
       "    </tr>\n",
       "    <tr>\n",
       "      <th>2</th>\n",
       "      <td>2024-11-01</td>\n",
       "      <td>A DIVISION</td>\n",
       "      <td>1</td>\n",
       "      <td>1</td>\n",
       "      <td>Infrastructure &amp; Equipment</td>\n",
       "      <td>Braking</td>\n",
       "      <td>19</td>\n",
       "    </tr>\n",
       "    <tr>\n",
       "      <th>3</th>\n",
       "      <td>2024-11-01</td>\n",
       "      <td>A DIVISION</td>\n",
       "      <td>1</td>\n",
       "      <td>1</td>\n",
       "      <td>Infrastructure &amp; Equipment</td>\n",
       "      <td>Door-Related</td>\n",
       "      <td>10</td>\n",
       "    </tr>\n",
       "    <tr>\n",
       "      <th>4</th>\n",
       "      <td>2024-11-01</td>\n",
       "      <td>A DIVISION</td>\n",
       "      <td>1</td>\n",
       "      <td>1</td>\n",
       "      <td>Infrastructure &amp; Equipment</td>\n",
       "      <td>Fire, Smoke, Debris</td>\n",
       "      <td>72</td>\n",
       "    </tr>\n",
       "    <tr>\n",
       "      <th>5</th>\n",
       "      <td>2024-11-01</td>\n",
       "      <td>A DIVISION</td>\n",
       "      <td>1</td>\n",
       "      <td>1</td>\n",
       "      <td>Infrastructure &amp; Equipment</td>\n",
       "      <td>Other - CE</td>\n",
       "      <td>51</td>\n",
       "    </tr>\n",
       "  </tbody>\n",
       "</table>\n",
       "</div>"
      ],
      "text/plain": [
       "        month    division line  day_type          reporting_category  \\\n",
       "0  2024-11-01  A DIVISION    1         1           Crew Availability   \n",
       "1  2024-11-01  A DIVISION    1         1            External Factors   \n",
       "2  2024-11-01  A DIVISION    1         1  Infrastructure & Equipment   \n",
       "3  2024-11-01  A DIVISION    1         1  Infrastructure & Equipment   \n",
       "4  2024-11-01  A DIVISION    1         1  Infrastructure & Equipment   \n",
       "5  2024-11-01  A DIVISION    1         1  Infrastructure & Equipment   \n",
       "\n",
       "                  subcategory  delays  \n",
       "0           Crew Availability      50  \n",
       "1  External Debris on Roadbed      34  \n",
       "2                     Braking      19  \n",
       "3                Door-Related      10  \n",
       "4         Fire, Smoke, Debris      72  \n",
       "5                  Other - CE      51  "
      ]
     },
     "execution_count": 27,
     "metadata": {},
     "output_type": "execute_result"
    }
   ],
   "source": [
    "data.head(6)"
   ]
  },
  {
   "cell_type": "markdown",
   "metadata": {},
   "source": [
    "We examine the different reporting categories for which delays are reported. These are printed below."
   ]
  },
  {
   "cell_type": "code",
   "execution_count": 28,
   "metadata": {},
   "outputs": [
    {
     "name": "stdout",
     "output_type": "stream",
     "text": [
      "Crew Availability\n",
      "External Factors\n",
      "Infrastructure & Equipment\n",
      "Operating Conditions\n",
      "Planned ROW Work\n",
      "Police & Medical\n"
     ]
    }
   ],
   "source": [
    "unique_reporting_cat = data[\"reporting_category\"].unique()\n",
    "print(\"\\n\".join(unique_reporting_cat))"
   ]
  },
  {
   "cell_type": "markdown",
   "metadata": {},
   "source": [
    "For each of the categories above, there is a subcategory. We would like to see the subcategories within each category. "
   ]
  },
  {
   "cell_type": "code",
   "execution_count": 29,
   "metadata": {},
   "outputs": [
    {
     "name": "stdout",
     "output_type": "stream",
     "text": [
      "Category: Crew Availability\n",
      "\tCrew Availability\n",
      "Category: External Factors\n",
      "\tExternal Debris on Roadbed\n",
      "\tExternal Agency or Utility\n",
      "\tInclement Weather\n",
      "Category: Infrastructure & Equipment\n",
      "\tBraking\n",
      "\tDoor-Related\n",
      "\tFire, Smoke, Debris\n",
      "\tOther - CE\n",
      "\tOther Infrastructure\n",
      "\tOther Internal Disruptions\n",
      "\tOther - Sig\n",
      "\tPropulsion\n",
      "\tRail and Roadbed\n",
      "\tService Delivery\n",
      "\tTrain Brake Activation - Cause Unknown\n",
      "\tSignal Modernization Capital Project\n",
      "Category: Operating Conditions\n",
      "\tOther Operating Environment\n",
      "\tService Management\n",
      "Category: Planned ROW Work\n",
      "\tCapital Work - Other Planned ROW\n",
      "\tSubways Maintenance\n",
      "\tWork Equipment\n",
      "\tInsufficient Supplement Schedule\n",
      "\tOther Planned ROW Work\n",
      "Category: Police & Medical\n",
      "\tPersons on Roadbed\n",
      "\tPublic Conduct, Crime, Police Response\n",
      "\tSick/Injured Customer\n"
     ]
    }
   ],
   "source": [
    "for cat in unique_reporting_cat:\n",
    "    subset = data[data[\"reporting_category\"] == cat] \n",
    "\n",
    "    unique_subcategories = subset[\"subcategory\"].unique() \n",
    "    print(f\"Category: {cat}\")\n",
    "    for subcat in unique_subcategories:\n",
    "        print(f\"\\t{subcat}\")"
   ]
  },
  {
   "cell_type": "markdown",
   "metadata": {},
   "source": [
    "Which division has more delays? The A division (numbered services) or the B division (lettered services)?"
   ]
  },
  {
   "cell_type": "code",
   "execution_count": 38,
   "metadata": {},
   "outputs": [
    {
     "name": "stdout",
     "output_type": "stream",
     "text": [
      "There are 13274 records for the A division\n",
      "There are 24249 records for the B division\n",
      "There are 611120 recorded for the A division\n",
      "There are 1142220 recorded for the B division\n"
     ]
    }
   ],
   "source": [
    "a_div = data[data[\"division\"] == \"A DIVISION\"]\n",
    "b_div = data[data[\"division\"] == \"B DIVISION\"]\n",
    "\n",
    "print(f\"There are {len(a_div.index)} records for the A division\")\n",
    "print(f\"There are {len(b_div.index)} records for the B division\")\n",
    "\n",
    "a_div_delays = sum(a_div[\"delays\"])\n",
    "b_div_delays = sum(b_div[\"delays\"])\n",
    "\n",
    "print(f\"There are {a_div_delays} recorded for the A division\")\n",
    "print(f\"There are {b_div_delays} recorded for the B division\")"
   ]
  },
  {
   "cell_type": "markdown",
   "metadata": {},
   "source": [
    "We see that the B division has more delays recorded than the A division. But there could be many factors at play here. Namely, let us look at the number of services in each division."
   ]
  },
  {
   "cell_type": "code",
   "execution_count": 40,
   "metadata": {},
   "outputs": [
    {
     "name": "stdout",
     "output_type": "stream",
     "text": [
      "There are 8 services on the A division\n",
      "There are 15 services on the B division\n"
     ]
    }
   ],
   "source": [
    "# Count unique lines in each division\n",
    "a_div_lines = a_div[\"line\"].nunique()\n",
    "b_div_lines = b_div[\"line\"].nunique()\n",
    "\n",
    "print(f\"There are {a_div_lines} services on the A division\")\n",
    "print(f\"There are {b_div_lines} services on the B division\")"
   ]
  },
  {
   "cell_type": "markdown",
   "metadata": {},
   "source": [
    "We thus see that there are more services on the B division. This will naturally cause more delays there."
   ]
  },
  {
   "cell_type": "markdown",
   "metadata": {},
   "source": [
    "We now count the number of delays attributed to each of the categories."
   ]
  },
  {
   "cell_type": "code",
   "execution_count": 50,
   "metadata": {},
   "outputs": [
    {
     "data": {
      "text/plain": [
       "reporting_category\n",
       "Crew Availability              2421\n",
       "External Factors               2787\n",
       "Infrastructure & Equipment    19369\n",
       "Operating Conditions            121\n",
       "Planned ROW Work               6081\n",
       "Police & Medical               6744\n",
       "Name: delays, dtype: int64"
      ]
     },
     "execution_count": 50,
     "metadata": {},
     "output_type": "execute_result"
    }
   ],
   "source": [
    "data.groupby([\"reporting_category\"])[\"delays\"].count()"
   ]
  },
  {
   "cell_type": "markdown",
   "metadata": {},
   "source": [
    "We can also easily count the number of delays attributed to each of the subcategories as well "
   ]
  },
  {
   "cell_type": "code",
   "execution_count": 51,
   "metadata": {},
   "outputs": [
    {
     "data": {
      "text/plain": [
       "reporting_category          subcategory                           \n",
       "Crew Availability           Crew Availability                         2421\n",
       "External Factors            External Agency or Utility                 691\n",
       "                            External Debris on Roadbed                1220\n",
       "                            Inclement Weather                          876\n",
       "Infrastructure & Equipment  Braking                                   1656\n",
       "                            Door-Related                              1826\n",
       "                            Fire, Smoke, Debris                       1576\n",
       "                            Other - CE                                1944\n",
       "                            Other - Sig                               2379\n",
       "                            Other Infrastructure                      1539\n",
       "                            Other Internal Disruptions                1187\n",
       "                            Propulsion                                1427\n",
       "                            Rail and Roadbed                          1942\n",
       "                            Service Delivery                          2197\n",
       "                            Signal Modernization Capital Project       394\n",
       "                            Train Brake Activation - Cause Unknown    1302\n",
       "Operating Conditions        Other Operating Environment                118\n",
       "                            Service Management                           3\n",
       "Planned ROW Work            Capital Work - Other Planned ROW          1492\n",
       "                            Insufficient Supplement Schedule           346\n",
       "                            Other Planned ROW Work                      99\n",
       "                            Subways Maintenance                       2374\n",
       "                            Work Equipment                            1770\n",
       "Police & Medical            Persons on Roadbed                        2041\n",
       "                            Public Conduct, Crime, Police Response    2503\n",
       "                            Sick/Injured Customer                     2200\n",
       "Name: delays, dtype: int64"
      ]
     },
     "execution_count": 51,
     "metadata": {},
     "output_type": "execute_result"
    }
   ],
   "source": [
    "data.groupby([\"reporting_category\", \"subcategory\"])[\"delays\"].count()"
   ]
  },
  {
   "cell_type": "code",
   "execution_count": null,
   "metadata": {},
   "outputs": [],
   "source": []
  }
 ],
 "metadata": {
  "kernelspec": {
   "display_name": ".venv",
   "language": "python",
   "name": "python3"
  },
  "language_info": {
   "codemirror_mode": {
    "name": "ipython",
    "version": 3
   },
   "file_extension": ".py",
   "mimetype": "text/x-python",
   "name": "python",
   "nbconvert_exporter": "python",
   "pygments_lexer": "ipython3",
   "version": "3.13.0"
  }
 },
 "nbformat": 4,
 "nbformat_minor": 4
}
